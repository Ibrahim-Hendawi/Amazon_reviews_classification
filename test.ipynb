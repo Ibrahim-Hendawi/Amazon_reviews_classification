{
 "cells": [
  {
   "cell_type": "code",
   "execution_count": 9,
   "id": "45c96f02-fd3a-4c61-8a1a-8f1f55c3cbae",
   "metadata": {
    "scrolled": true
   },
   "outputs": [],
   "source": [
    "import pandas as pd\n",
    "import numpy as np\n",
    "from nltk.sentiment.vader import SentimentIntensityAnalyzer\n",
    "from tensorflow.keras.preprocessing.text import Tokenizer\n",
    "from tensorflow.keras.preprocessing.sequence import pad_sequences\n",
    "from keras.callbacks import ModelCheckpoint\n",
    "import pickle\n",
    "import re"
   ]
  },
  {
   "cell_type": "code",
   "execution_count": 2,
   "id": "fb806a2f-60e3-45d4-849e-b967fdfe7b71",
   "metadata": {},
   "outputs": [],
   "source": [
    "with open('tokenizer.pkl', 'rb') as file:\n",
    "    tokenizer = pickle.load(file)"
   ]
  },
  {
   "cell_type": "code",
   "execution_count": 3,
   "id": "648dbd01-ba76-463b-b25c-015e5dfcf54d",
   "metadata": {
    "collapsed": true,
    "jupyter": {
     "outputs_hidden": true
    },
    "scrolled": true
   },
   "outputs": [
    {
     "name": "stderr",
     "output_type": "stream",
     "text": [
      "2023-12-14 21:51:46.853858: E tensorflow/compiler/xla/stream_executor/cuda/cuda_driver.cc:268] failed call to cuInit: CUDA_ERROR_UNKNOWN: unknown error\n",
      "2023-12-14 21:51:46.853886: I tensorflow/compiler/xla/stream_executor/cuda/cuda_diagnostics.cc:168] retrieving CUDA diagnostic information for host: ibrahim\n",
      "2023-12-14 21:51:46.853891: I tensorflow/compiler/xla/stream_executor/cuda/cuda_diagnostics.cc:175] hostname: ibrahim\n",
      "2023-12-14 21:51:46.853979: I tensorflow/compiler/xla/stream_executor/cuda/cuda_diagnostics.cc:199] libcuda reported version is: 470.223.2\n",
      "2023-12-14 21:51:46.853996: I tensorflow/compiler/xla/stream_executor/cuda/cuda_diagnostics.cc:203] kernel reported version is: 470.223.2\n",
      "2023-12-14 21:51:46.854000: I tensorflow/compiler/xla/stream_executor/cuda/cuda_diagnostics.cc:309] kernel version seems to match DSO: 470.223.2\n"
     ]
    }
   ],
   "source": [
    "# Load the pre-trained model\n",
    "from tensorflow.keras.models import load_model\n",
    "model = load_model('amazon_model.h5')"
   ]
  },
  {
   "cell_type": "code",
   "execution_count": 4,
   "id": "5b02afa3-299c-485b-a2ea-ba8220e39c17",
   "metadata": {},
   "outputs": [],
   "source": [
    "case = [\"Great CD: My lovely Pat has one of the GREAT voices of her generation. I have listened to this CD for YEARS and I still LOVE IT. When I'm in a good mood it makes me feel better. A bad mood just evaporates like sugar in the rain. This CD just oozes LIFE. Vocals are jusat STUUNNING and lyrics just kill. One of life's hidden gems. This is a desert isle CD in my book. Why she never made it big is just beyond me. Everytime I play this, no matter black, white, young, old, male, female EVERYBODY says one thing \\\"Who was that singing ?\\\"\"]"
   ]
  },
  {
   "cell_type": "code",
   "execution_count": 5,
   "id": "8a2a269c-66f6-45a2-be78-f90421a4f53a",
   "metadata": {},
   "outputs": [],
   "source": [
    "def clean_text(text):\n",
    "    # Remove non-alphanumeric characters and extra whitespace\n",
    "    text = re.sub(r'[^a-zA-Z\\s]', '', text)\n",
    "    # Convert multiple whitespace characters to a single space\n",
    "    text = re.sub(r'\\s+', ' ', text)\n",
    "    # Convert the text to lowercase\n",
    "    text = text.lower()\n",
    "    return text"
   ]
  },
  {
   "cell_type": "code",
   "execution_count": 6,
   "id": "044a1a29-fd92-49e4-83ac-2600c52a09bb",
   "metadata": {},
   "outputs": [],
   "source": [
    "def score(reviwe):\n",
    "    case = pd.DataFrame(reviwe)[0].apply(clean_text)\n",
    "    case = tokenizer.texts_to_sequences(case)\n",
    "    case = pad_sequences(case, maxlen=100)\n",
    "    prediction=model.predict(case)\n",
    "    if prediction[0][0] > prediction[0][1]:\n",
    "        if prediction[0][0] >0.80:\n",
    "            print('⭐')\n",
    "        else:\n",
    "            print('⭐⭐')\n",
    "    elif prediction[0][1]>predict[0][0]:\n",
    "        if prediction[0][1] > 0.80:\n",
    "            print('⭐⭐⭐⭐⭐')\n",
    "        else:\n",
    "            print('⭐⭐⭐⭐')\n",
    "    else:\n",
    "        print('⭐⭐⭐')"
   ]
  },
  {
   "cell_type": "code",
   "execution_count": 7,
   "id": "43a3d13f-c858-480a-84e9-429c4d48401d",
   "metadata": {},
   "outputs": [],
   "source": [
    "my_reviwe = ['A Lost Author: I have read all of the Carpathian novels to date, except one. I very much enjoyed them at first, but nothing EVER gets resolved. You would think that after 16 books something would have been resolved and a new obstacle introduced. As for this book, it is an off-shoot of another Carpathian novel about the Jaguar Line. I was hoping to find out more about this curse, the origins and why the males kill the females. Nothing, not a word about the Jaguar curse. And why do the walls and ceilings change? Ideas introduced and left at that. Ms. Feehan went, once again, off on a tagent. Her books become less and less meaty and more and more expensive. I will NOT be buying any further books by this author. What a shame.']"
   ]
  },
  {
   "cell_type": "code",
   "execution_count": 10,
   "id": "2e311c58-8f5a-4446-9fcd-1cdac41bce06",
   "metadata": {},
   "outputs": [
    {
     "name": "stdout",
     "output_type": "stream",
     "text": [
      "1/1 [==============================] - 1s 549ms/step\n",
      "⭐\n"
     ]
    }
   ],
   "source": [
    "score(my_reviwe)"
   ]
  },
  {
   "cell_type": "code",
   "execution_count": null,
   "id": "b01c22be-748c-4952-97fa-1238560a986e",
   "metadata": {},
   "outputs": [],
   "source": []
  }
 ],
 "metadata": {
  "kernelspec": {
   "display_name": "Python 3 (ipykernel)",
   "language": "python",
   "name": "python3"
  },
  "language_info": {
   "codemirror_mode": {
    "name": "ipython",
    "version": 3
   },
   "file_extension": ".py",
   "mimetype": "text/x-python",
   "name": "python",
   "nbconvert_exporter": "python",
   "pygments_lexer": "ipython3",
   "version": "3.10.12"
  }
 },
 "nbformat": 4,
 "nbformat_minor": 5
}
